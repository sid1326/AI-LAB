{
  "nbformat": 4,
  "nbformat_minor": 0,
  "metadata": {
    "colab": {
      "provenance": []
    },
    "kernelspec": {
      "name": "python3",
      "display_name": "Python 3"
    },
    "language_info": {
      "name": "python"
    }
  },
  "cells": [
    {
      "cell_type": "code",
      "execution_count": 4,
      "metadata": {
        "id": "ZxFnSITTQubw"
      },
      "outputs": [],
      "source": [
        "# Assignment 12: Implementation of Genetic Algorithm (GA) for solving AI-based search problems"
      ]
    },
    {
      "cell_type": "code",
      "source": [
        "import random\n",
        "import numpy as np\n",
        "\n",
        "def fitness_function(individual):\n",
        "    \"\"\"Define a fitness function that evaluates how good an individual is.\"\"\"\n",
        "    return sum(individual)  # Example: Maximize the sum of binary values\n",
        "\n",
        "def selection(population, fitness_values, num_mates):\n",
        "    \"\"\"Select parents based on fitness proportionate selection (roulette wheel).\"\"\"\n",
        "    total_fitness = sum(fitness_values)\n",
        "\n",
        "    # If all fitness values are zero, use random selection\n",
        "    if total_fitness == 0:\n",
        "        return random.choices(population, k=num_mates)\n",
        "\n",
        "    probabilities = [f / total_fitness for f in fitness_values]\n",
        "    return random.choices(population, probabilities, k=num_mates)\n",
        "\n",
        "def crossover(parent1, parent2):\n",
        "    if len(parent1) < 2:  # Ensure crossover is possible\n",
        "        return parent1, parent2\n",
        "\n",
        "    point = random.randint(1, len(parent1) - 1)\n",
        "    offspring1 = parent1[:point] + parent2[point:]\n",
        "    offspring2 = parent2[:point] + parent1[point:]\n",
        "    return offspring1, offspring2\n",
        "\n",
        "def mutate(individual, mutation_rate=0.01):\n",
        "    \"\"\"Apply mutation with a given mutation rate.\"\"\"\n",
        "    return [gene if random.random() > mutation_rate else 1 - gene for gene in individual]\n",
        "\n",
        "def genetic_algorithm(population, generations=20, mutation_rate=0.01):\n",
        "    \"\"\"Main function to execute Genetic Algorithm.\"\"\"\n",
        "\n",
        "    for generation in range(generations):\n",
        "        fitness_values = [fitness_function(ind) for ind in population]\n",
        "\n",
        "        # Ensure fitness values are not empty\n",
        "        if not fitness_values:\n",
        "            print(\"Error: Fitness values are empty, resetting population.\")\n",
        "            population = [np.random.randint(2, size=len(population[0])).tolist() for _ in range(len(population))]\n",
        "            fitness_values = [fitness_function(ind) for ind in population]\n",
        "\n",
        "        # Selection\n",
        "        mating_pool = selection(population, fitness_values, len(population) // 2)\n",
        "\n",
        "        # Ensure mating pool is not empty\n",
        "        if not mating_pool:\n",
        "            print(\"Error: Mating pool is empty, using original population.\")\n",
        "            mating_pool = population[:]\n",
        "\n",
        "        # Crossover\n",
        "        new_population = []\n",
        "        for i in range(0, len(mating_pool), 2):\n",
        "            if i + 1 < len(mating_pool):\n",
        "                offspring1, offspring2 = crossover(mating_pool[i], mating_pool[i+1])\n",
        "                new_population.extend([offspring1, offspring2])\n",
        "            else:\n",
        "                new_population.append(mating_pool[i])\n",
        "\n",
        "        # Mutation\n",
        "        population = [mutate(ind, mutation_rate) for ind in new_population]\n",
        "\n",
        "        # Ensure population is not empty\n",
        "        if not population:\n",
        "            print(\"Error: Population is empty, reinitializing.\")\n",
        "            population = [np.random.randint(2, size=len(new_population[0])).tolist() for _ in range(len(new_population))]\n",
        "\n",
        "        # Print best fitness\n",
        "        best_fitness = max(fitness_values)\n",
        "        print(f'Generation {generation + 1}: Best Fitness = {best_fitness}')\n",
        "\n",
        "    # Return the best individual from the final generation\n",
        "    best_index = fitness_values.index(max(fitness_values))\n",
        "    return population[best_index]\n",
        "\n",
        "def main():\n",
        "    pop_size, gene_length = 10, 8\n",
        "    initial_population = [np.random.randint(2, size=gene_length).tolist() for _ in range(pop_size)]\n",
        "    best_solution = genetic_algorithm(initial_population)\n",
        "    print(\"Best solution found:\", best_solution)\n",
        "\n",
        "main()\n"
      ],
      "metadata": {
        "id": "WuftQF-TR8pY",
        "colab": {
          "base_uri": "https://localhost:8080/"
        },
        "outputId": "58869717-cc83-4455-fce9-230add896e57"
      },
      "execution_count": 3,
      "outputs": [
        {
          "output_type": "stream",
          "name": "stdout",
          "text": [
            "Generation 1: Best Fitness = 6\n",
            "Generation 2: Best Fitness = 6\n",
            "Generation 3: Best Fitness = 6\n",
            "Error: Mating pool is empty, using original population.\n",
            "Generation 4: Best Fitness = 6\n",
            "Error: Mating pool is empty, using original population.\n",
            "Generation 5: Best Fitness = 6\n",
            "Error: Mating pool is empty, using original population.\n",
            "Generation 6: Best Fitness = 6\n",
            "Error: Mating pool is empty, using original population.\n",
            "Generation 7: Best Fitness = 6\n",
            "Error: Mating pool is empty, using original population.\n",
            "Generation 8: Best Fitness = 6\n",
            "Error: Mating pool is empty, using original population.\n",
            "Generation 9: Best Fitness = 6\n",
            "Error: Mating pool is empty, using original population.\n",
            "Generation 10: Best Fitness = 6\n",
            "Error: Mating pool is empty, using original population.\n",
            "Generation 11: Best Fitness = 6\n",
            "Error: Mating pool is empty, using original population.\n",
            "Generation 12: Best Fitness = 6\n",
            "Error: Mating pool is empty, using original population.\n",
            "Generation 13: Best Fitness = 6\n",
            "Error: Mating pool is empty, using original population.\n",
            "Generation 14: Best Fitness = 6\n",
            "Error: Mating pool is empty, using original population.\n",
            "Generation 15: Best Fitness = 6\n",
            "Error: Mating pool is empty, using original population.\n",
            "Generation 16: Best Fitness = 6\n",
            "Error: Mating pool is empty, using original population.\n",
            "Generation 17: Best Fitness = 6\n",
            "Error: Mating pool is empty, using original population.\n",
            "Generation 18: Best Fitness = 6\n",
            "Error: Mating pool is empty, using original population.\n",
            "Generation 19: Best Fitness = 6\n",
            "Error: Mating pool is empty, using original population.\n",
            "Generation 20: Best Fitness = 6\n",
            "Best solution found: [0, 1, 1, 1, 1, 1, 1, 0]\n"
          ]
        }
      ]
    },
    {
      "cell_type": "code",
      "source": [],
      "metadata": {
        "id": "TVr7huBSTFD4"
      },
      "execution_count": null,
      "outputs": []
    },
    {
      "cell_type": "code",
      "source": [],
      "metadata": {
        "id": "isSFV9iqTFLC"
      },
      "execution_count": null,
      "outputs": []
    },
    {
      "cell_type": "code",
      "source": [],
      "metadata": {
        "id": "5_P8LlLrTFTY"
      },
      "execution_count": null,
      "outputs": []
    }
  ]
}